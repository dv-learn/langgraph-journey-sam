{
 "cells": [
  {
   "cell_type": "code",
   "execution_count": 1,
   "id": "07bd6889-022b-4dbf-8571-8ca05de7675c",
   "metadata": {},
   "outputs": [],
   "source": [
    "from typing import Annotated, TypedDict,Sequence, Literal, Optional\n",
    "from langgraph.graph import add_messages\n",
    "from dotenv import load_dotenv\n",
    "import os\n",
    "from openai import OpenAI\n",
    "from langgraph.prebuilt import ToolNode\n",
    "from langchain_core.tools import tool\n",
    "from langchain_core.messages import BaseMessage, SystemMessage, ToolMessage\n",
    "from langgraph.graph import StateGraph, START, END"
   ]
  },
  {
   "cell_type": "markdown",
   "id": "a00c9345-e008-482e-9e2e-d0ffe7e7411d",
   "metadata": {},
   "source": [
    "<img src=\"https://github.com/dv-learn/langgraph-journey-sam/blob/main/images/Episode1_Sam_Arrives_To_Village.jpg?raw=true\" alt=\"Image of LLM node acted by Librarian!\"/>\n",
    "\n",
    "\n"
   ]
  },
  {
   "cell_type": "markdown",
   "id": "981c5d85-4985-409a-a812-640cfb69b73e",
   "metadata": {},
   "source": [
    "<img src=\"https://github.com/dv-learn/langgraph-journey-sam/blob/main/images/Episode2_Greeter_to_Library_LLMNode.jpg?raw=true\"/>"
   ]
  },
  {
   "cell_type": "code",
   "execution_count": 2,
   "id": "8046e2c5-9f92-4559-a73a-2bbe1f4894b9",
   "metadata": {},
   "outputs": [],
   "source": [
    "# environment\n",
    "\n",
    "load_dotenv(override=True)\n",
    "os.environ['OPENAI_API_KEY'] = os.getenv('OPENAI_API_KEY', 'your-key-if-not-using-env')\n",
    "os.environ['ANTHROPIC_API_KEY'] = os.getenv('ANTHROPIC_API_KEY', 'your-key-if-not-using-env')\n",
    "os.environ['HF_TOKEN'] = os.getenv('HF_TOKEN', 'your-key-if-not-using-env')"
   ]
  },
  {
   "cell_type": "code",
   "execution_count": 3,
   "id": "b69a1b49-8556-42e6-b348-ad174f59fcfc",
   "metadata": {},
   "outputs": [],
   "source": [
    "from typing import TypedDict, Optional\n",
    "\n",
    "# This schema tracks all messages exchanged among nodes, — like a running conversation log.\n",
    "class SamState(TypedDict):\n",
    "    messages: Annotated[Sequence[BaseMessage], add_messages]\n"
   ]
  },
  {
   "cell_type": "code",
   "execution_count": 4,
   "id": "931d0415-4926-42b7-bc89-eca2e9bbe550",
   "metadata": {},
   "outputs": [],
   "source": [
    "def greeting_node(state: SamState)-> SamState:\n",
    "    \"\"\" This node responds with a friendly greeting and some guidance for anyone in village\"\"\"\n",
    "\n",
    "    greeting_message = \"\"\"\n",
    "Welcome to Harmonyville, traveler!\n",
    "I’m the village greeter — here to help you find your way. If you're new, here's how things work around here:\n",
    "\n",
    "If you’re unsure what to do or need guidance, speak with our kind **Librarian**. She’s wise and always ready to help.\n",
    "\n",
    "Curious about the weather before planning something big? Our **Weather Station** expert has the latest forecast!\n",
    "\n",
    "Need approval for an event or announcement? Our cheerful **Mayor** will give you the green (or red) signal.\n",
    "\n",
    "Just ask your question, and our town will work together to help you out.\n",
    "\n",
    "Let’s begin your journey — what would you like to do today?\n",
    "\"\"\"\n",
    "    print(f\"🧑‍🏫 Assistant:{greeting_message}\")  \n",
    "    return {\n",
    "        \"messages\": [AIMessage(content=greeting_message)]\n",
    "    }"
   ]
  },
  {
   "cell_type": "code",
   "execution_count": 5,
   "id": "9579a37f-7285-43cf-81eb-8bf1cc2afcd6",
   "metadata": {},
   "outputs": [],
   "source": [
    "def user_input_node(state: SamState) -> SamState:\n",
    "    \"\"\" This is the node, to hear input from end user based on the reply from greeter node.\n",
    "    This node simply takes input from user , updated the state.\"\"\"\n",
    "    user_input = input(\"\\n👤 Sam Wants: \")\n",
    "    return {\n",
    "        \"messages\":  [HumanMessage(content=user_input)]\n",
    "    }"
   ]
  },
  {
   "cell_type": "code",
   "execution_count": 6,
   "id": "f7d4f15e-07c7-45b5-ac38-16a4660ff8ce",
   "metadata": {},
   "outputs": [],
   "source": [
    "def router_node(state: SamState) -> SamState:\n",
    "    \"\"\" This is router node acts as conditional logic to route to library or LLM node if needs help,\n",
    "    other wise route to end logic\"\"\"\n",
    "    \n",
    "    # Fetching the last message, from the state variable,\n",
    "    user_input = state[\"messages\"][-1].content.lower()\n",
    "     \n",
    "    #print(user_input)\n",
    "    if \"plan\" in user_input or \"event\" in user_input or \"help\" in user_input:\n",
    "        return \"library\"\n",
    "    else:\n",
    "        return \"end\""
   ]
  },
  {
   "cell_type": "code",
   "execution_count": 7,
   "id": "ebe147a5-d2bb-4089-b202-7f6dda3bfca0",
   "metadata": {},
   "outputs": [],
   "source": [
    "from langchain_openai import ChatOpenAI\n",
    "def library_node(state: SamState) -> SamState:\n",
    "    \"\"\"This node acts like librarian and full of wisdom and guides people having problem with solution\n",
    "    based on knowledge she has acquired with the ages of data and reading.\"\"\"\n",
    "    \n",
    "    model = ChatOpenAI(model = \"gpt-4o-mini\")\n",
    "    \n",
    "    system_prompt = \n",
    "    (content=\n",
    "        \"You are wise librarian in this small village, all people come to you for their solution.\\\n",
    "    you guide people with your wisdom and knowledge you gained from life long data, books and knowledge. \\\n",
    "    Let me give you more info on the village, here apart from people, there are community helpers like \\\n",
    "    weather station person who predicts weather with his tools and finally mayor who has final authority to \\\n",
    "    approve and announce decisions of village.\"\n",
    "    )\n",
    "    result = model.invoke([system_prompt] + state[\"messages\"])\n",
    "    print(f\"🧑‍🏫 Assistant: {result.content}\")\n",
    "    \n",
    "    return {\n",
    "        \"messages\":  [AIMessage(content=result.content)]\n",
    "    }"
   ]
  },
  {
   "cell_type": "code",
   "execution_count": 8,
   "id": "07b0bcae-12ab-41f2-bf48-3fccc2c99b2d",
   "metadata": {},
   "outputs": [],
   "source": [
    "# We add our greeting node and make it the starting point of our graph.\n",
    "graph = StateGraph(SamState)\n",
    "graph.add_node(\"greeting\", greeting_node)\n",
    "graph.add_node(\"user_input\", user_input_node)\n",
    "graph.add_node(\"router\", lambda x: x)\n",
    "graph.add_node(\"library\", library_node)\n",
    "graph.set_entry_point(\"greeting\")\n",
    "graph.add_edge(\"greeting\", \"user_input\")\n",
    "graph.add_edge(\"user_input\", \"router\")\n",
    "graph.add_conditional_edges(\n",
    "    \"router\", \n",
    "    router_node, \n",
    "    {\n",
    "        \"library\":\"library\",\n",
    "        \"end\": END\n",
    "    })\n",
    "graph.add_edge(\"library\",END)\n",
    "\n",
    "\n",
    "app = graph.compile()\n",
    "\n"
   ]
  },
  {
   "cell_type": "code",
   "execution_count": 9,
   "id": "245abef1-89b4-4390-98c9-7a462969293c",
   "metadata": {},
   "outputs": [
    {
     "data": {
      "image/png": "[encoded data removed]",
      "text/plain": [
       "<IPython.core.display.Image object>"
      ]
     },
     "metadata": {},
     "output_type": "display_data"
    }
   ],
   "source": [
    "from IPython.display import Image, display\n",
    "display(Image(app.get_graph().draw_mermaid_png()))"
   ]
  },
  {
   "cell_type": "code",
   "execution_count": 10,
   "id": "ee0e8f5c-27c6-465a-9ddc-1f24f61098ca",
   "metadata": {},
   "outputs": [
    {
     "name": "stdin",
     "output_type": "stream",
     "text": [
      "\n",
      "👤 Sam:  HI I AM NEW HERE..\n"
     ]
    },
    {
     "name": "stdout",
     "output_type": "stream",
     "text": [
      "🧑‍🏫 Assistant:\n",
      "Welcome to Harmonyville, traveler!\n",
      "I’m the village greeter — here to help you find your way. If you're new, here's how things work around here:\n",
      "\n",
      "If you’re unsure what to do or need guidance, speak with our kind **Librarian**. She’s wise and always ready to help.\n",
      "\n",
      "Curious about the weather before planning something big? Our **Weather Station** expert has the latest forecast!\n",
      "\n",
      "Need approval for an event or announcement? Our cheerful **Mayor** will give you the green (or red) signal.\n",
      "\n",
      "Just ask your question, and our town will work together to help you out.\n",
      "\n",
      "Let’s begin your journey — what would you like to do today?\n",
      "\n"
     ]
    },
    {
     "name": "stdin",
     "output_type": "stream",
     "text": [
      "\n",
      "👤 Sam Wants:  I want to host event this weekend.\n"
     ]
    },
    {
     "name": "stdout",
     "output_type": "stream",
     "text": [
      "🧑‍🏫 Assistant: That sounds like a wonderful idea! Hosting an event can bring the community together and create lasting memories. Here are the steps you can take to organize your event this weekend:\n",
      "\n",
      "1. **Decide on the Details**: \n",
      "   - What type of event do you want to host? (e.g., a picnic, a market, a workshop)\n",
      "   - What time and location do you have in mind?\n",
      "   - How many people do you expect to attend?\n",
      "\n",
      "2. **Check with the Mayor**: \n",
      "   - Since the Mayor has the final authority to approve events, it’s essential to present your plans to them. Prepare a brief description of your event, including the date, time, location, and any special requirements you might have.\n",
      "\n",
      "3. **Gather Community Helpers**: \n",
      "   - If you need assistance, consider reaching out to community helpers like the Weather Station person to check the forecast for the weekend. It’s always good to prepare for any unexpected weather changes.\n",
      "\n",
      "4. **Promote Your Event**: \n",
      "   - Once you have approval, spread the word! You can use community boards, social media, or simply tell your neighbors to invite them.\n",
      "\n",
      "5. **Plan for Logistics**: \n",
      "   - Think about what you’ll need for the event: seating, food, entertainment, or any materials. You may need to arrange for these ahead of time.\n",
      "\n",
      "If you provide me with more details about the event, I can help you further refine your plans or give you tips on what to consider. What kind of event do you have in mind?\n"
     ]
    }
   ],
   "source": [
    "from langchain_core.messages import HumanMessage, AIMessage\n",
    "\n",
    "\n",
    "# Start with Sam’s first message\n",
    "user_input = input(\"\\n👤 Sam: \")\n",
    "messages = [HumanMessage(content=user_input)]\n",
    "\n",
    "\n",
    "# 🔁 Invoke LangGraph app with current conversation\n",
    "state = app.invoke({\"messages\": messages})\n",
    "\n"
   ]
  },
  {
   "cell_type": "code",
   "execution_count": null,
   "id": "b223335f-18e9-4d48-a1c5-20261ea40931",
   "metadata": {},
   "outputs": [],
   "source": []
  },
  {
   "cell_type": "code",
   "execution_count": null,
   "id": "59b2a635-29c7-4839-a61e-b83e4c489e31",
   "metadata": {},
   "outputs": [],
   "source": []
  },
  {
   "cell_type": "code",
   "execution_count": null,
   "id": "5f0c37dc-ed22-4d5f-b7d1-1220111816b9",
   "metadata": {},
   "outputs": [],
   "source": []
  },
  {
   "cell_type": "code",
   "execution_count": null,
   "id": "8ce78832-2e25-4b61-8ceb-a957f9a7382d",
   "metadata": {},
   "outputs": [],
   "source": []
  }
 ],
 "metadata": {
  "kernelspec": {
   "display_name": "Python 3 (ipykernel)",
   "language": "python",
   "name": "python3"
  },
  "language_info": {
   "codemirror_mode": {
    "name": "ipython",
    "version": 3
   },
   "file_extension": ".py",
   "mimetype": "text/x-python",
   "name": "python",
   "nbconvert_exporter": "python",
   "pygments_lexer": "ipython3",
   "version": "3.11.11"
  }
 },
 "nbformat": 4,
 "nbformat_minor": 5
}
