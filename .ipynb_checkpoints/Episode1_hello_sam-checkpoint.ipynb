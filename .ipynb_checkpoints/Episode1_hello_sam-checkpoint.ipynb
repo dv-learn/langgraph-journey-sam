{
 "cells": [
  {
   "cell_type": "code",
   "execution_count": 5,
   "id": "07bd6889-022b-4dbf-8571-8ca05de7675c",
   "metadata": {},
   "outputs": [],
   "source": [
    "from typing import Annotated, TypedDict,Sequence, Literal, Optional\n",
    "from langgraph.graph import add_messages\n",
    "from dotenv import load_dotenv\n",
    "import os\n",
    "from openai import OpenAI\n",
    "from langgraph.prebuilt import ToolNode\n",
    "from langchain_core.tools import tool\n",
    "from langchain_core.messages import BaseMessage, SystemMessage, ToolMessage\n",
    "from langgraph.graph import StateGraph, START, END"
   ]
  },
  {
   "cell_type": "code",
   "execution_count": null,
   "id": "04413a97-f30c-44de-9af2-366c28d3e6e9",
   "metadata": {},
   "outputs": [],
   "source": [
    "<img src=\"\" alt=\"Image of Sam Arrives to Village!\"/>"
   ]
  },
  {
   "cell_type": "code",
   "execution_count": 6,
   "id": "8046e2c5-9f92-4559-a73a-2bbe1f4894b9",
   "metadata": {},
   "outputs": [],
   "source": [
    "# environment\n",
    "\n",
    "load_dotenv(override=True)\n",
    "os.environ['OPENAI_API_KEY'] = os.getenv('OPENAI_API_KEY', 'your-key-if-not-using-env')\n",
    "os.environ['ANTHROPIC_API_KEY'] = os.getenv('ANTHROPIC_API_KEY', 'your-key-if-not-using-env')\n",
    "os.environ['HF_TOKEN'] = os.getenv('HF_TOKEN', 'your-key-if-not-using-env')"
   ]
  },
  {
   "cell_type": "code",
   "execution_count": 7,
   "id": "b69a1b49-8556-42e6-b348-ad174f59fcfc",
   "metadata": {},
   "outputs": [],
   "source": [
    "from typing import TypedDict, Optional\n",
    "\n",
    "class SamState(TypedDict):\n",
    "    messages: Annotated[Sequence[BaseMessage], add_messages]\n",
    "    #question: str\n",
    "    #librarian_advice: Optional[str]\n",
    "    #weather_ok: Optional[bool]\n",
    "    #decision: Optional[str]\n"
   ]
  },
  {
   "cell_type": "code",
   "execution_count": 8,
   "id": "931d0415-4926-42b7-bc89-eca2e9bbe550",
   "metadata": {},
   "outputs": [],
   "source": [
    "def greeting_node(state: SamState)-> SamState:\n",
    "    greeting_message = \"\"\"\n",
    "Welcome to Harmonyville, traveler!\n",
    "I’m the village greeter — here to help you find your way. If you're new, here's how things work around here:\n",
    "\n",
    "If you’re unsure what to do or need guidance, speak with our kind **Librarian**. She’s wise and always ready to help.\n",
    "\n",
    "Curious about the weather before planning something big? Our **Weather Station** expert has the latest forecast!\n",
    "\n",
    "Need approval for an event or announcement? Our cheerful **Mayor** will give you the green (or red) signal.\n",
    "\n",
    "Just ask your question, and our town will work together to help you out.\n",
    "\n",
    "Let’s begin your journey — what would you like to do today?\n",
    "\"\"\"\n",
    "#msg = input(\"\")\n",
    "    \n",
    "    return {\n",
    "        \"messages\": [AIMessage(content=greeting_message)]\n",
    "    }"
   ]
  },
  {
   "cell_type": "code",
   "execution_count": null,
   "id": "9ade9c8a-0eca-462e-9ebd-89ff76350669",
   "metadata": {},
   "outputs": [],
   "source": [
    "import random\n",
    "@tool\n",
    "def weather_status(location: str)-> str:\n",
    "    \"\"\" This is function responsible to get weather forecast data. \"\"\"\n",
    "    weather_conditions = [\"Clear\", \"Partly Cloudy\", \"Cloudy\", \"Light Rain\", \"Heavy Rain\", \"Thunderstorm\", \"Snow\", \"Fog\"]\n",
    "    temperature = random.randint(-10, 40)\n",
    "    condition = random.choice(weather_conditions)\n",
    "    \n",
    "    return f\"Current weather in {location}:\\n\" \\\n",
    "           f\"- Condition: {condition}\\n\" \\\n",
    "           f\"- Temperature: {temperature}°C\\n\""
   ]
  },
  {
   "cell_type": "code",
   "execution_count": null,
   "id": "e9e12f67-032e-4b52-8561-dc85fb5a7184",
   "metadata": {},
   "outputs": [],
   "source": [
    "from langchain_openai import ChatOpenAI\n",
    "#openai = OpenAI()\n",
    "\n",
    "tools = [weather_status]\n",
    "\n",
    "\n",
    "model = ChatOpenAI(model = \"gpt-4o-mini\").bind_tools(tools)\n"
   ]
  },
  {
   "cell_type": "code",
   "execution_count": null,
   "id": "5f9d3c8e-c41a-44d5-9691-aef9b93de4eb",
   "metadata": {},
   "outputs": [],
   "source": [
    "## This node will check if the model wants to call a tool (like weather_status) and call it with the right arguments.\n",
    "\n",
    "tool_node = ToolNode(tools=tools)"
   ]
  },
  {
   "cell_type": "code",
   "execution_count": null,
   "id": "bb5c1f76-562a-4ff5-afea-b625d2c2769d",
   "metadata": {},
   "outputs": [],
   "source": [
    "def librarian_node(state: SamState) -> SamState:\n",
    "    \"\"\"This node acts like librarian and full of wisdom and guides people having problem with solution\n",
    "    based on knowledge she has acquired with the ages of data and reading.\"\"\"\n",
    "    #msg = input(\"What do you want to do today?\")\n",
    "    #user_prompt = HumanMessage(content=msg)\n",
    "    system_prompt = SystemMessage(content=\n",
    "        \"You are wise librarian in this small village, all people come to you for their solution.\\\n",
    "    you guide people with your wisdom and knowledge you gained from life long data, books and knowledge. \\\n",
    "    Let me give you more info on the village, here apart from people, there are community helpers like \\\n",
    "    weather station person who predicts weather with his tools and finally mayor who has final authority to \\\n",
    "    approve and announce decisions of village.\"\n",
    "    )\n",
    "    #print(\"Inside LLM node:\",state[\"messages\"])\n",
    "    result = model.invoke([system_prompt] +state[\"messages\"])\n",
    "    add_messages(state, result)\n",
    "    return state \n",
    "   "
   ]
  },
  {
   "cell_type": "code",
   "execution_count": null,
   "id": "4c10ee19-e379-4d9e-aa65-530ad63564a2",
   "metadata": {},
   "outputs": [],
   "source": [
    "from textwrap import fill\n",
    "\n",
    "def pretty_print(state: SamState):\n",
    "    # Print a clean header\n",
    "    print(\"\\n🧙‍♀️ Librarian's Advice for Sam:\\n\")\n",
    "\n",
    "    # Print each paragraph line-wrapped\n",
    "    for paragraph in state[\"librarian_advice\"].split(\"\\n\\n\"):\n",
    "        print(fill(paragraph, width=90))\n",
    "        print()\n"
   ]
  },
  {
   "cell_type": "code",
   "execution_count": null,
   "id": "f4cda132-a7c7-4479-bf31-62fe942e0c74",
   "metadata": {},
   "outputs": [],
   "source": [
    "pretty_print(sam_initial_state)"
   ]
  },
  {
   "cell_type": "code",
   "execution_count": null,
   "id": "39f58a80-6334-4685-832c-ac11139336fd",
   "metadata": {},
   "outputs": [],
   "source": [
    "def check_if_tool_called(state: SamState) -> str:\n",
    "    last_msg = state[\"messages\"][-1]\n",
    "    if isinstance(last_msg, AIMessage) and last_msg.tool_calls:\n",
    "        return \"tool\"\n",
    "    return \"mayor\"\n"
   ]
  },
  {
   "cell_type": "code",
   "execution_count": null,
   "id": "6faf5e02-aa0d-4df6-abfe-b329e7bdb176",
   "metadata": {},
   "outputs": [],
   "source": [
    "def check_weather_status(state: SamState):\n",
    "    \"\"\"Decides whether to go to mayor or weather station based on tool call.\"\"\"\n",
    "    for msg in reversed(state[\"messages\"]):\n",
    "        if isinstance(msg, ToolMessage) and msg.name == \"weather_status\":\n",
    "            print(\"Inside check weather status  reb bababa ...\")\n",
    "            return \"go_to_mayor\"\n",
    "    print(\"Inside check weather status  reb bababa, GO TO WEATHER ...\")\n",
    "    return \"go_to_weather\"\n",
    "\n",
    "\n"
   ]
  },
  {
   "cell_type": "code",
   "execution_count": null,
   "id": "9f159e43-c320-490c-9c3b-dca0d0df809d",
   "metadata": {},
   "outputs": [],
   "source": [
    "from langchain_core.messages import ToolMessage, AIMessage\n",
    "import re\n",
    "\n",
    "def mayor_node(state):\n",
    "    weather_message = None\n",
    "\n",
    "    # 1. Find the most recent tool output\n",
    "    for msg in reversed(state[\"messages\"]):\n",
    "        if isinstance(msg, ToolMessage) and msg.tool_call_id == \"weather_status\":\n",
    "            weather_message = msg.content\n",
    "            break\n",
    "\n",
    "    if weather_message is None:\n",
    "        return {\"messages\": [AIMessage(content=\"Hmm... I couldn't find any weather report.\")]}\n",
    "\n",
    "    # 2. Simple pattern matching (you can use regex or string matching)\n",
    "    if any(x in weather_message for x in [\"Clear\", \"Partly Cloudy\", \"Cloudy\"]):\n",
    "        decision = \"The weather is good. Proceed with the event!\"\n",
    "    else:\n",
    "        decision = \"The weather doesn't look suitable. Better postpone it.\"\n",
    "\n",
    "    return {\n",
    "        \"messages\": [AIMessage(content=f\"Mayor says: {decision}\")]\n",
    "    }\n"
   ]
  },
  {
   "cell_type": "code",
   "execution_count": 9,
   "id": "07b0bcae-12ab-41f2-bf48-3fccc2c99b2d",
   "metadata": {},
   "outputs": [],
   "source": [
    "graph = StateGraph(SamState)\n",
    "\n",
    "graph.add_node(\"greeting\", greeting_node)\n",
    "#graph.add_node(\"librarian\", librarian_node)\n",
    "graph.add_edge(\"greeting\",END)\n",
    "graph.set_entry_point(\"greeting\")\n",
    "\n",
    "# Define edges\n",
    "\n",
    "#builder.add_edge(\"greeting\", \"librarian\")\n",
    "#builder.add_edge(\"librarian\",END)\n",
    "#builder.add_edge(\"mayor\",END)\n",
    "app = graph.compile()\n",
    "\n"
   ]
  },
  {
   "cell_type": "code",
   "execution_count": 10,
   "id": "245abef1-89b4-4390-98c9-7a462969293c",
   "metadata": {},
   "outputs": [
    {
     "data": {
      "image/png": "[encoded data removed]",
      "text/plain": [
       "<IPython.core.display.Image object>"
      ]
     },
     "metadata": {},
     "output_type": "display_data"
    }
   ],
   "source": [
    "from IPython.display import Image, display\n",
    "display(Image(app.get_graph().draw_mermaid_png()))"
   ]
  },
  {
   "cell_type": "code",
   "execution_count": 13,
   "id": "580be963-792f-4609-bbb8-d12ac66334bb",
   "metadata": {},
   "outputs": [
    {
     "name": "stdout",
     "output_type": "stream",
     "text": [
      "🧑‍🏫 Assistant: \n",
      "Welcome to Harmonyville, traveler!\n",
      "I’m the village greeter — here to help you find your way. If you're new, here's how things work around here:\n",
      "\n",
      "If you’re unsure what to do or need guidance, speak with our kind **Librarian**. She’s wise and always ready to help.\n",
      "\n",
      "Curious about the weather before planning something big? Our **Weather Station** expert has the latest forecast!\n",
      "\n",
      "Need approval for an event or announcement? Our cheerful **Mayor** will give you the green (or red) signal.\n",
      "\n",
      "Just ask your question, and our town will work together to help you out.\n",
      "\n",
      "Let’s begin your journey — what would you like to do today?\n",
      "\n"
     ]
    },
    {
     "name": "stdin",
     "output_type": "stream",
     "text": [
      "\n",
      "👤 Sam:  exit\n"
     ]
    }
   ],
   "source": [
    "from langchain_core.messages import HumanMessage, AIMessage\n",
    "\n",
    "from langchain_core.messages import HumanMessage, AIMessage\n",
    "\n",
    "# Start with Sam’s first message\n",
    "messages = [HumanMessage(content=\"Hi, I'm Sam. I am new to this village\")]\n",
    "\n",
    "while True:\n",
    "    # 🔁 Invoke LangGraph app with current conversation\n",
    "    state = app.invoke({\"messages\": messages})\n",
    "\n",
    "    # 🆕 Extract only new messages added during this invoke\n",
    "    new_messages = [msg for msg in state[\"messages\"] if msg not in messages]\n",
    "\n",
    "    # 💬 Print assistant/tool responses\n",
    "    for msg in new_messages:\n",
    "        role = (\n",
    "            \"🔧 Tool\" if hasattr(msg, \"tool_call_id\")\n",
    "            else \"🧑‍🏫 Assistant\" if isinstance(msg, AIMessage)\n",
    "            else \"❓\"\n",
    "        )\n",
    "        print(f\"{role}: {msg.content}\")\n",
    "\n",
    "    # 🧠 Update message history with new messages from state\n",
    "    messages += new_messages\n",
    "\n",
    "    # 🧑 Prompt for next Sam message (or exit)\n",
    "    user_input = input(\"\\n👤 Sam: \")\n",
    "    if user_input.lower() in [\"exit\", \"quit\"]:\n",
    "        break\n",
    "\n",
    "    # ➕ Append user input\n",
    "    messages.append(HumanMessage(content=user_input))\n"
   ]
  },
  {
   "cell_type": "code",
   "execution_count": null,
   "id": "129cd87a-a302-4a28-b560-606e1aeb5964",
   "metadata": {},
   "outputs": [],
   "source": [
    "from langchain_core.messages import HumanMessage, AIMessage\n",
    "\n",
    "# Start with Sam’s first message\n",
    "messages = [HumanMessage(content=\"Hi, I'm Sam. I want to host festival this weekend\")]\n",
    "\n",
    "while True:\n",
    "    # 🔁 Invoke LangGraph app with current conversation\n",
    "    state = app.invoke({\"messages\": messages})\n",
    "\n",
    "    \n",
    "    # 🆕 Extract only new messages added during this invoke\n",
    "    new_messages = [msg for msg in state[\"messages\"] if msg not in messages]\n",
    "\n",
    "    # 💬 Print assistant/tool responses\n",
    "    for msg in new_messages:\n",
    "        role = (\n",
    "            \"🔧 Tool\" if hasattr(msg, \"tool_call_id\")\n",
    "            else \"🧑‍🏫 Assistant\" if isinstance(msg, AIMessage)\n",
    "            else \"❓\"\n",
    "        )\n",
    "        print(f\"{role}: {msg.content}\")\n",
    "\n",
    "    # 🧠 Update message history with new messages from state\n",
    "    messages += new_messages\n",
    "\n",
    "    # 🧑 Prompt for next Sam message (or exit)\n",
    "    user_input = input(\"\\n👤 Sam: \")\n",
    "    if user_input.lower() in [\"exit\", \"quit\"]:\n",
    "        break\n",
    "\n",
    "    # ➕ Append user input\n",
    "    messages.append(HumanMessage(content=user_input))\n"
   ]
  },
  {
   "cell_type": "code",
   "execution_count": null,
   "id": "efceb8e9-a905-4b2b-a835-825da3ce4ad3",
   "metadata": {},
   "outputs": [],
   "source": [
    "builder = StateGraph(SamState)\n",
    "\n",
    "builder.add_node(\"greeting\", greeting_node)\n",
    "builder.add_node(\"librarian\", librarian_node)\n",
    "builder.add_node(\"weather_station\", tool_node)  # 👈 ToolNode used here\n",
    "builder.add_node(\"mayor\", mayor_node)\n",
    "builder.add_node(\"router\", lambda stet)\n",
    "\n",
    "# Define edges\n",
    "builder.set_entry_point(\"greeting\")\n",
    "builder.add_edge(\"greeting\", \"librarian\")\n",
    "builder.add_edge(\"librarian\", \"router\")\n",
    "builder.add_conditional_edges(\"router\", \n",
    "                              check_weather_status,\n",
    "                              {\n",
    "    \"go_to_weather\": \"weather_station\",\n",
    "    \"go_to_mayor\": \"mayor\"\n",
    "})\n",
    "builder.add_edge(\"weather_station\", \"mayor\")\n",
    "builder.add_edge(\"weather_station\",END)\n",
    "builder.add_edge(\"mayor\",END)\n",
    "app = builder.compile()\n",
    "\n"
   ]
  }
 ],
 "metadata": {
  "kernelspec": {
   "display_name": "Python 3 (ipykernel)",
   "language": "python",
   "name": "python3"
  },
  "language_info": {
   "codemirror_mode": {
    "name": "ipython",
    "version": 3
   },
   "file_extension": ".py",
   "mimetype": "text/x-python",
   "name": "python",
   "nbconvert_exporter": "python",
   "pygments_lexer": "ipython3",
   "version": "3.11.11"
  }
 },
 "nbformat": 4,
 "nbformat_minor": 5
}
