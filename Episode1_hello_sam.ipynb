{
 "cells": [
  {
   "cell_type": "code",
   "execution_count": 1,
   "id": "07bd6889-022b-4dbf-8571-8ca05de7675c",
   "metadata": {},
   "outputs": [],
   "source": [
    "from typing import Annotated, TypedDict,Sequence, Literal, Optional\n",
    "from langgraph.graph import add_messages\n",
    "from dotenv import load_dotenv\n",
    "import os\n",
    "from openai import OpenAI\n",
    "from langgraph.prebuilt import ToolNode\n",
    "from langchain_core.tools import tool\n",
    "from langchain_core.messages import BaseMessage, SystemMessage, ToolMessage\n",
    "from langgraph.graph import StateGraph, START, END"
   ]
  },
  {
   "cell_type": "markdown",
   "id": "a00c9345-e008-482e-9e2e-d0ffe7e7411d",
   "metadata": {},
   "source": [
    "<img src=\"https://github.com/dv-learn/langgraph-journey-sam/blob/main/images/Episode1_Sam_Arrives_To_Village.jpg?raw=true\" alt=\"Image of Sam Arrives to Village!\"/>"
   ]
  },
  {
   "cell_type": "code",
   "execution_count": 2,
   "id": "8046e2c5-9f92-4559-a73a-2bbe1f4894b9",
   "metadata": {},
   "outputs": [],
   "source": [
    "# environment\n",
    "\n",
    "load_dotenv(override=True)\n",
    "os.environ['OPENAI_API_KEY'] = os.getenv('OPENAI_API_KEY', 'your-key-if-not-using-env')\n",
    "os.environ['ANTHROPIC_API_KEY'] = os.getenv('ANTHROPIC_API_KEY', 'your-key-if-not-using-env')\n",
    "os.environ['HF_TOKEN'] = os.getenv('HF_TOKEN', 'your-key-if-not-using-env')"
   ]
  },
  {
   "cell_type": "code",
   "execution_count": 3,
   "id": "b69a1b49-8556-42e6-b348-ad174f59fcfc",
   "metadata": {},
   "outputs": [],
   "source": [
    "from typing import TypedDict, Optional\n",
    "\n",
    "# This schema tracks all messages exchanged among nodes, — like a running conversation log.\n",
    "class SamState(TypedDict):\n",
    "    messages: Annotated[Sequence[BaseMessage], add_messages]\n"
   ]
  },
  {
   "cell_type": "code",
   "execution_count": 4,
   "id": "931d0415-4926-42b7-bc89-eca2e9bbe550",
   "metadata": {},
   "outputs": [],
   "source": [
    "def greeting_node(state: SamState)-> SamState:\n",
    "    \"\"\" This node responds with a friendly greeting and some guidance for anyone in village\"\"\"\n",
    "\n",
    "    greeting_message = \"\"\"\n",
    "Welcome to Harmonyville, traveler!\n",
    "I’m the village greeter — here to help you find your way. If you're new, here's how things work around here:\n",
    "\n",
    "If you’re unsure what to do or need guidance, speak with our kind **Librarian**. She’s wise and always ready to help.\n",
    "\n",
    "Curious about the weather before planning something big? Our **Weather Station** expert has the latest forecast!\n",
    "\n",
    "Need approval for an event or announcement? Our cheerful **Mayor** will give you the green (or red) signal.\n",
    "\n",
    "Just ask your question, and our town will work together to help you out.\n",
    "\n",
    "Let’s begin your journey — what would you like to do today?\n",
    "\"\"\"\n",
    "    \n",
    "    return {\n",
    "        \"messages\": [AIMessage(content=greeting_message)]\n",
    "    }"
   ]
  },
  {
   "cell_type": "code",
   "execution_count": 5,
   "id": "07b0bcae-12ab-41f2-bf48-3fccc2c99b2d",
   "metadata": {},
   "outputs": [],
   "source": [
    "# We add our greeting node and make it the starting point of our graph.\n",
    "graph = StateGraph(SamState)\n",
    "graph.add_node(\"greeting\", greeting_node)\n",
    "graph.add_edge(\"greeting\",END)\n",
    "graph.set_entry_point(\"greeting\")\n",
    "\n",
    "app = graph.compile()\n",
    "\n"
   ]
  },
  {
   "cell_type": "code",
   "execution_count": 6,
   "id": "245abef1-89b4-4390-98c9-7a462969293c",
   "metadata": {},
   "outputs": [
    {
     "data": {
      "image/png": "[encoded data removed]",
      "text/plain": [
       "<IPython.core.display.Image object>"
      ]
     },
     "metadata": {},
     "output_type": "display_data"
    }
   ],
   "source": [
    "from IPython.display import Image, display\n",
    "display(Image(app.get_graph().draw_mermaid_png()))"
   ]
  },
  {
   "cell_type": "code",
   "execution_count": 8,
   "id": "afc5ce45-a0f5-4ae3-a857-ecb8a8413a20",
   "metadata": {},
   "outputs": [
    {
     "name": "stdin",
     "output_type": "stream",
     "text": [
      "\n",
      "👤 Sam:  Hi I am Sam.\n"
     ]
    },
    {
     "name": "stdout",
     "output_type": "stream",
     "text": [
      "🧑‍🏫 Assistant: \n",
      "Welcome to Harmonyville, traveler!\n",
      "I’m the village greeter — here to help you find your way. If you're new, here's how things work around here:\n",
      "\n",
      "If you’re unsure what to do or need guidance, speak with our kind **Librarian**. She’s wise and always ready to help.\n",
      "\n",
      "Curious about the weather before planning something big? Our **Weather Station** expert has the latest forecast!\n",
      "\n",
      "Need approval for an event or announcement? Our cheerful **Mayor** will give you the green (or red) signal.\n",
      "\n",
      "Just ask your question, and our town will work together to help you out.\n",
      "\n",
      "Let’s begin your journey — what would you like to do today?\n",
      "\n"
     ]
    },
    {
     "name": "stdin",
     "output_type": "stream",
     "text": [
      "\n",
      "👤 Sam:  exit\n"
     ]
    }
   ],
   "source": [
    "from langchain_core.messages import HumanMessage, AIMessage\n",
    "\n",
    "\n",
    "# Start with Sam’s first message\n",
    "user_input = input(\"\\n👤 Sam: \")\n",
    "messages = [HumanMessage(content=user_input)]\n",
    "\n",
    "while True:\n",
    "    # 🔁 Invoke LangGraph app with current conversation\n",
    "    state = app.invoke({\"messages\": messages})\n",
    "\n",
    "    # 🆕 Extract only new messages added during this invoke\n",
    "    new_messages = [msg for msg in state[\"messages\"] if msg not in messages]\n",
    "\n",
    "    # 💬 Print assistant/tool responses\n",
    "    for msg in new_messages:\n",
    "        role = (\n",
    "            \"🔧 Tool\" if hasattr(msg, \"tool_call_id\")\n",
    "            else \"🧑‍🏫 Assistant\" if isinstance(msg, AIMessage)\n",
    "            else \"❓\"\n",
    "        )\n",
    "        print(f\"{role}: {msg.content}\")\n",
    "\n",
    "    # 🧠 Update message history with new messages from state\n",
    "    messages += new_messages\n",
    "\n",
    "    # 🧑 Prompt for next Sam message (or exit)\n",
    "    user_input = input(\"\\n👤 Sam: \")\n",
    "    if user_input.lower() in [\"exit\", \"quit\"]:\n",
    "        break\n",
    "\n",
    "    # ➕ Append user input\n",
    "    messages.append(HumanMessage(content=user_input))\n"
   ]
  },
  {
   "cell_type": "code",
   "execution_count": null,
   "id": "b223335f-18e9-4d48-a1c5-20261ea40931",
   "metadata": {},
   "outputs": [],
   "source": []
  }
 ],
 "metadata": {
  "kernelspec": {
   "display_name": "Python 3 (ipykernel)",
   "language": "python",
   "name": "python3"
  },
  "language_info": {
   "codemirror_mode": {
    "name": "ipython",
    "version": 3
   },
   "file_extension": ".py",
   "mimetype": "text/x-python",
   "name": "python",
   "nbconvert_exporter": "python",
   "pygments_lexer": "ipython3",
   "version": "3.11.11"
  }
 },
 "nbformat": 4,
 "nbformat_minor": 5
}
